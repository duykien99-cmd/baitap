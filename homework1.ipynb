{
 "cells": [
  {
   "cell_type": "code",
   "execution_count": null,
   "id": "77ca394e",
   "metadata": {},
   "outputs": [
    {
     "name": "stdout",
     "output_type": "stream",
     "text": [
      "2n= 10\n"
     ]
    }
   ],
   "source": [
    "#bai1\n",
    "n=int(input(\"nhap n\"))\n",
    "N=2*n\n",
    "print(\"2n=\",N)"
   ]
  },
  {
   "cell_type": "code",
   "execution_count": null,
   "id": "8a1c14eb",
   "metadata": {},
   "outputs": [
    {
     "name": "stdout",
     "output_type": "stream",
     "text": [
      "S con lai= 20.38\n"
     ]
    }
   ],
   "source": [
    "#bai2\n",
    "a=int(input(\"nhap chieu dai\"))\n",
    "b=int(input(\"nhap chieu rong\"))\n",
    "c=a*b-3.14*(b/2)**2\n",
    "print(\"S con lai=\",f'{c:.2f}')"
   ]
  },
  {
   "cell_type": "code",
   "execution_count": 10,
   "id": "b2782d66",
   "metadata": {},
   "outputs": [
    {
     "name": "stdout",
     "output_type": "stream",
     "text": [
      "R\n"
     ]
    }
   ],
   "source": [
    "#bai3\n",
    "c=input()\n",
    "if \"a\"<= c<=\"z\":\n",
    "    print(chr(ord(c)-32))\n",
    "elif \"A\"<=c<=\"Z\":\n",
    "    print(chr(ord(c)+32))\n",
    "else :\n",
    "    print(\"vui long nhap ki tu\")    "
   ]
  },
  {
   "cell_type": "code",
   "execution_count": 28,
   "id": "592883db",
   "metadata": {},
   "outputs": [
    {
     "name": "stdout",
     "output_type": "stream",
     "text": [
      "{c} khong phai ki tu alphabet\n"
     ]
    }
   ],
   "source": [
    "#bai4\n",
    "c=input()\n",
    "if \"a\"<=c<=\"z\" :\n",
    "    print(\"{c} la ki tu alphabet\")\n",
    "else :\n",
    "    print(\"{c} khong phai ki tu alphabet\")    "
   ]
  },
  {
   "cell_type": "code",
   "execution_count": 1,
   "id": "2ce6d5e1",
   "metadata": {},
   "outputs": [
    {
     "name": "stdout",
     "output_type": "stream",
     "text": [
      "khong ton tai\n"
     ]
    }
   ],
   "source": [
    "#bai5\n",
    "c=input()\n",
    "if \"B\"<=c<=\"Z\" :\n",
    "    print(chr((ord(c)+31)))\n",
    "else :\n",
    "    print(\"khong ton tai\")    "
   ]
  },
  {
   "cell_type": "code",
   "execution_count": 2,
   "id": "1dde6af9",
   "metadata": {},
   "outputs": [
    {
     "name": "stdout",
     "output_type": "stream",
     "text": [
      "khong phai 3 canh tam giac\n"
     ]
    }
   ],
   "source": [
    "#bai6\n",
    "a,b,c=map(float,input().split())\n",
    "if a+b>c :\n",
    "    p=(a+b+c)/2\n",
    "    s=(p*(p-a)*(p-b)*(p-c))**(1/2)\n",
    "    print(\"dien tich tam giac =\",f'{s:.1f}')\n",
    "else :\n",
    "    print(\"khong phai 3 canh tam giac\")    "
   ]
  },
  {
   "cell_type": "code",
   "execution_count": 3,
   "id": "b9272e85",
   "metadata": {},
   "outputs": [
    {
     "name": "stdout",
     "output_type": "stream",
     "text": [
      "h k\n"
     ]
    }
   ],
   "source": [
    "#bai7\n",
    "chuoi=input()\n",
    "print(chuoi[4],chuoi[8])\n"
   ]
  },
  {
   "cell_type": "code",
   "execution_count": 18,
   "id": "7f36ded3",
   "metadata": {},
   "outputs": [
    {
     "name": "stdout",
     "output_type": "stream",
     "text": [
      "ten chu ho pham xuan toai\n",
      "tong tien dien 107136\n"
     ]
    }
   ],
   "source": [
    "#baitap8\n",
    "ten_chu_ho=input()\n",
    "ttrc=int(input(\"chi so tien dien thang trc\"))\n",
    "tsau=int(input(\"chi so tien dien thang sau\"))\n",
    "sodien=tsau-ttrc\n",
    "if 0<=sodien<=50:\n",
    "  gia=1984*sodien\n",
    "elif 51<=sodien<=100:\n",
    "  gia=99200+(sodien-50) *2050 \n",
    "elif 101<=sodien<=200:\n",
    "  gia=201700+(sodien-100)*2380\n",
    "elif 201<=sodien<=300:\n",
    "  gia=439700+(sodien-200) *2998\n",
    "elif 301<=sodien<=400:\n",
    "  gia=739500+(sodien-300) *3350\n",
    "elif 401<=sodien:\n",
    "  gia=1074500+(sodien-400) *3460\n",
    "else :\n",
    "  print(\"khong co so dien am\")\n",
    "print(\"ten chu ho\",ten_chu_ho)\n",
    "print(\"tong tien dien\", f'{gia*1.08:.0f}')\n",
    "\n",
    "\n"
   ]
  },
  {
   "cell_type": "code",
   "execution_count": 4,
   "id": "63e1ec13",
   "metadata": {},
   "outputs": [
    {
     "name": "stdout",
     "output_type": "stream",
     "text": [
      "day la so chan\n"
     ]
    }
   ],
   "source": [
    "#baitapkhac1\n",
    "n=int(input())\n",
    "if n%2==0:\n",
    "    print(\"day la so chan\")\n",
    "else:\n",
    "    print(\"day la so le\")"
   ]
  },
  {
   "cell_type": "code",
   "execution_count": 14,
   "id": "1e305baa",
   "metadata": {},
   "outputs": [
    {
     "name": "stdout",
     "output_type": "stream",
     "text": [
      "true\n"
     ]
    }
   ],
   "source": [
    "#baitapkhac2\n",
    "n=int(input())\n",
    "if abs(n)%10==5:\n",
    "    print(\"true\")\n",
    "else :\n",
    "    print(\"false\")    "
   ]
  },
  {
   "cell_type": "code",
   "execution_count": null,
   "id": "3a3e2ac5",
   "metadata": {},
   "outputs": [
    {
     "name": "stdout",
     "output_type": "stream",
     "text": [
      "true\n"
     ]
    }
   ],
   "source": [
    "#baitapkhac3\n",
    "n=int(input())\n",
    "if n%3==0 or n%5==0:\n",
    "    print(\"true\")\n",
    "else:\n",
    "    print(\"false\")\n",
    "\n"
   ]
  },
  {
   "cell_type": "code",
   "execution_count": null,
   "id": "6a6c6631",
   "metadata": {},
   "outputs": [
    {
     "name": "stdout",
     "output_type": "stream",
     "text": [
      "du dieu kien di bau cu\n"
     ]
    }
   ],
   "source": [
    "#baitapkhac4\n",
    "namsinh=int(input())\n",
    "tuoi=2025-namsinh\n",
    "if tuoi>=18:\n",
    "    print(\"du dieu kien di bau cu\")\n",
    "else:\n",
    "    print(\"chua du dieu kien di bau cu\")"
   ]
  },
  {
   "cell_type": "code",
   "execution_count": null,
   "id": "5740b8ae",
   "metadata": {},
   "outputs": [
    {
     "name": "stdout",
     "output_type": "stream",
     "text": [
      "2 so bang nhau\n"
     ]
    }
   ],
   "source": [
    "#baitapkhac5\n",
    "a,b=map(int,input().split())\n",
    "if a>b:\n",
    "    print(\"số lớn hơn là \",a)\n",
    "elif b>a:\n",
    "    print(\"số lớn hơn là \",b)\n",
    "else:\n",
    "    print(\"2 so bang nhau\")"
   ]
  },
  {
   "cell_type": "code",
   "execution_count": 1,
   "id": "8ac25103",
   "metadata": {},
   "outputs": [
    {
     "name": "stdout",
     "output_type": "stream",
     "text": [
      "day la chu cai\n"
     ]
    }
   ],
   "source": [
    "#baitapkhac6\n",
    "n=input()\n",
    "if n!=1:\n",
    "    print(\"vui long nhap 1 ki tu\")\n",
    "else:\n",
    "    if n.isdigit():\n",
    "        print(\"day la chu so\")\n",
    "    elif n.isalpha():\n",
    "        print(\"day la chu cai\")\n",
    "    else :\n",
    "        print(\"day kh la gi ca\")"
   ]
  },
  {
   "cell_type": "code",
   "execution_count": 2,
   "id": "f592b37f",
   "metadata": {},
   "outputs": [
    {
     "name": "stdout",
     "output_type": "stream",
     "text": [
      "day la diem kha\n"
     ]
    }
   ],
   "source": [
    "#baitapkhac7\n",
    "n=float(input())\n",
    "if n>=8 :\n",
    "    print(\"diem gioi\")\n",
    "elif n>=6.5 :\n",
    "    print(\"day la diem kha\")\n",
    "elif n>=5 :\n",
    "    print(\"diem trung binh\")\n",
    "else :\n",
    "    print(\"diem yeu\")"
   ]
  },
  {
   "cell_type": "code",
   "execution_count": 3,
   "id": "fabbf320",
   "metadata": {},
   "outputs": [
    {
     "name": "stdout",
     "output_type": "stream",
     "text": [
      "nam do la nam nhuan\n"
     ]
    }
   ],
   "source": [
    "#baitapkhac8\n",
    "n=int(input())\n",
    "if n%400==0 or (n%4==0 and n%100 !=0):\n",
    "    print(\"nam do la nam nhuan\")\n",
    "else:\n",
    "    print(\"nam do kh phai nam nhuan\")"
   ]
  },
  {
   "cell_type": "code",
   "execution_count": 4,
   "id": "eec73c47",
   "metadata": {},
   "outputs": [
    {
     "name": "stdout",
     "output_type": "stream",
     "text": [
      "vui long nhap so tu 0 den 9\n"
     ]
    }
   ],
   "source": [
    "#baitapkhac9\n",
    "so=int(input())\n",
    "match(so):\n",
    "    case(1):\n",
    "        print(\"mot\")\n",
    "    case(2):\n",
    "        print(\"hai\")\n",
    "    case(3) :\n",
    "        print(\"ba\")\n",
    "    case(4):\n",
    "        print(\"bon\")\n",
    "    case(5):\n",
    "        print(\"nam\")\n",
    "    case(6):\n",
    "        print(\"sau\")\n",
    "    case(7):\n",
    "        print(\"bay\")\n",
    "    case(8):\n",
    "        print(\"tam\")\n",
    "    case(9):\n",
    "        print(\"chin\")\n",
    "    case _:\n",
    "        print(\"vui long nhap so tu 0 den 9\")"
   ]
  },
  {
   "cell_type": "code",
   "execution_count": 5,
   "id": "f90c95ad",
   "metadata": {},
   "outputs": [
    {
     "name": "stdout",
     "output_type": "stream",
     "text": [
      "qua mon\n"
     ]
    }
   ],
   "source": [
    "#baitapkhac10\n",
    "n=float(input())\n",
    "if n>=4:\n",
    "    print(\"qua mon\")\n",
    "else :\n",
    "    print(\"khong qua mon\")"
   ]
  },
  {
   "cell_type": "code",
   "execution_count": 6,
   "id": "f6b594ce",
   "metadata": {},
   "outputs": [
    {
     "name": "stdout",
     "output_type": "stream",
     "text": [
      "da du 18 tuoi\n"
     ]
    }
   ],
   "source": [
    "#baitapkhac11\n",
    "namsinh=int(input(\"nhap nam sinh\"))\n",
    "tuoi=2025-namsinh\n",
    "if tuoi>=18:\n",
    "    print(\"da du 18 tuoi\")\n",
    "else:\n",
    "    print(\"chua du 18 tuoi\")\n"
   ]
  }
 ],
 "metadata": {
  "kernelspec": {
   "display_name": "Python 3",
   "language": "python",
   "name": "python3"
  },
  "language_info": {
   "codemirror_mode": {
    "name": "ipython",
    "version": 3
   },
   "file_extension": ".py",
   "mimetype": "text/x-python",
   "name": "python",
   "nbconvert_exporter": "python",
   "pygments_lexer": "ipython3",
   "version": "3.13.7"
  }
 },
 "nbformat": 4,
 "nbformat_minor": 5
}

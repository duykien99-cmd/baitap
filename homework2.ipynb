{
 "cells": [
  {
   "cell_type": "code",
   "execution_count": 1,
   "id": "cb7ccdb1",
   "metadata": {},
   "outputs": [
    {
     "name": "stdout",
     "output_type": "stream",
     "text": [
      "chu vi là 12\n",
      "dien tích là 5\n"
     ]
    }
   ],
   "source": [
    "#w1 \n",
    "a=int(input())\n",
    "b=int(input())\n",
    "c=(a+b)*2\n",
    "s=a*b\n",
    "print(\"chu vi là\",c)\n",
    "print(\"dien tích là\",s)"
   ]
  },
  {
   "cell_type": "code",
   "execution_count": 2,
   "id": "fcf42065",
   "metadata": {},
   "outputs": [
    {
     "name": "stdout",
     "output_type": "stream",
     "text": [
      "dien tich hình tròn là 3.14\n",
      "chu vi hình tròn là 6.28\n"
     ]
    }
   ],
   "source": [
    "#W2\n",
    "r=int(input())\n",
    "s=3.14*r**2\n",
    "c=2*3.14*r\n",
    "print(\"dien tich hình tròn là\",s)\n",
    "print(\"chu vi hình tròn là\",c)"
   ]
  },
  {
   "cell_type": "code",
   "execution_count": 3,
   "id": "0ca473bb",
   "metadata": {},
   "outputs": [
    {
     "name": "stdout",
     "output_type": "stream",
     "text": [
      "day la tam giac deu\n",
      "dien tich tam giac la 3.9\n"
     ]
    }
   ],
   "source": [
    "#w3\n",
    "a,b,c=map(float,input().split())\n",
    "if a+b>c and a+c>b and b+c>a:\n",
    "    if a==b==c:\n",
    "        s=(a**2*3**0.5)/4\n",
    "        print(\"day la tam giac deu\")\n",
    "        print(\"dien tich tam giac la\",f'{s:.1f}')\n",
    "    elif a==b or a==c or b==c:\n",
    "        print(\"day la tam giac can\")\n",
    "        p=(a+b+c)/2\n",
    "        s=(p*(p-a)*(p-b)*(p-c))**1/2\n",
    "        print(\"dien tich tam giac la\",f'{s:.1f}')\n",
    "    elif a**2+b**2==c**2 or a**2+c**2==b**2 or b**2+c**2==a**2:\n",
    "        p=(a+b+c)/2\n",
    "        s=(p*(p-a)*(p-b)*(p-c))**1/2\n",
    "        print(\"day la tam giac vuong\")\n",
    "        print(\"dien tich tam giac la\",f'{s:.1f}')\n",
    "    else :\n",
    "        print(\"day la tam giac thuong\")\n",
    "        p=(a+b+c)/2\n",
    "        s=(p*(p-a)*(p-b)*(p-c))**1/2\n",
    "        print(\"dien tich tam giac la\",f'{s:.1f}')\n",
    "else :\n",
    "    print(\"day kh phai 3 canh 1 tam giac\")\n",
    "    "
   ]
  },
  {
   "cell_type": "code",
   "execution_count": 5,
   "id": "cb7927c5",
   "metadata": {},
   "outputs": [
    {
     "name": "stdout",
     "output_type": "stream",
     "text": [
      "pt co 1 nghiem duy nhat la -2\n"
     ]
    }
   ],
   "source": [
    "#W4\n",
    "#giai pt ax+b=0\n",
    "a,b=map(float,input().split())\n",
    "if a==0:\n",
    "    if b==0:\n",
    "        print(\"pt vo so nghiem\")\n",
    "    else :\n",
    "        print(\"pt vo nghiem\")\n",
    "else :\n",
    "    x=-b/a\n",
    "    print(\"pt co 1 nghiem duy nhat la\",f'{x:.0f}')"
   ]
  },
  {
   "cell_type": "code",
   "execution_count": 6,
   "id": "682dc6bd",
   "metadata": {},
   "outputs": [
    {
     "name": "stdout",
     "output_type": "stream",
     "text": [
      "pt co 2 nghiem\n",
      "nghiem thu nhat la x1= 1.0\n",
      "nghiem thu 2 la x2= -3.0\n"
     ]
    }
   ],
   "source": [
    "#W5\n",
    "#giai pt bac 2(ax^2+bx+c=0)\n",
    "a,b,c=map(float,input().split())\n",
    "delta=b**2-4*a*c\n",
    "if delta>0:\n",
    "    print(\"pt co 2 nghiem\")\n",
    "    x1=(-b+(delta)**0.5)/2*a\n",
    "    x2=(-b-(delta)**0.5)/2*a\n",
    "    print(\"nghiem thu nhat la x1=\",x1)\n",
    "    print(\"nghiem thu 2 la x2=\",x2)\n",
    "elif delta==0:\n",
    "    x=-b/2*a\n",
    "    print(\"pt có nghiem duy nhat =\",x)\n",
    "else:\n",
    "    print(\"pt vo nghiem\")"
   ]
  },
  {
   "cell_type": "code",
   "execution_count": 8,
   "id": "8e535fff",
   "metadata": {},
   "outputs": [
    {
     "name": "stdout",
     "output_type": "stream",
     "text": [
      "so lon nhat la 4.0\n"
     ]
    }
   ],
   "source": [
    "#W6\n",
    "a,b,c,d=map(float,input().split())\n",
    "x=max(a,b,c,d)\n",
    "print(f'so lon nhat la {x}')\n"
   ]
  },
  {
   "cell_type": "code",
   "execution_count": 9,
   "id": "3a7a0249",
   "metadata": {},
   "outputs": [
    {
     "name": "stdout",
     "output_type": "stream",
     "text": [
      "so nho nhat la 1.0\n"
     ]
    }
   ],
   "source": [
    "#W7\n",
    "a,b,c,d=map(float,input().split())\n",
    "x=min(a,b,c,d)\n",
    "print(\"so nho nhat la\",x)\n"
   ]
  },
  {
   "cell_type": "code",
   "execution_count": 10,
   "id": "9444808f",
   "metadata": {},
   "outputs": [
    {
     "name": "stdout",
     "output_type": "stream",
     "text": [
      "phuong trinh co 2 nghiem la -1.0 2.0\n"
     ]
    }
   ],
   "source": [
    "#w8\n",
    "a,b,m,c,d,n=map(int,input().split())\n",
    "A=a*d-b*c\n",
    "B=m*d-n*b\n",
    "C=a*n-m*c\n",
    "if A==0:\n",
    "    if B==0 and C==0:\n",
    "        print(\"pt co vo so nghiem\")\n",
    "    else:\n",
    "        print(\"phuong trinh vo nghiem\")\n",
    "else:\n",
    "    x1=B/A\n",
    "    x2=C/A\n",
    "    print(\"phuong trinh co 2 nghiem la\" ,x1 ,x2 )"
   ]
  },
  {
   "cell_type": "code",
   "execution_count": 11,
   "id": "e78758ef",
   "metadata": {},
   "outputs": [
    {
     "name": "stdout",
     "output_type": "stream",
     "text": [
      "chuyển sang giờ phút là  2.0 giờ- 28.0 phút- 8.0 giây\n"
     ]
    }
   ],
   "source": [
    "#W9\n",
    "a=float(input())\n",
    "x=(a//3600)\n",
    "y=(a-x*3600)//60\n",
    "z=a-x*3600-y*60\n",
    "print(\"chuyển sang giờ phút là \",x,\"giờ-\",y,\"phút-\",z,\"giây\")"
   ]
  },
  {
   "cell_type": "code",
   "execution_count": 12,
   "id": "189246f9",
   "metadata": {},
   "outputs": [
    {
     "name": "stdout",
     "output_type": "stream",
     "text": [
      "A kh thuoc duong tron\n"
     ]
    }
   ],
   "source": [
    "#w10\n",
    "o1,o2=map(float,input(\"nhap toa do tam\").split())\n",
    "a,b=map(float,input(\"nhap toa do diem A\").split())\n",
    "r=int(input())\n",
    "#Tâm C(o1,o2)\n",
    "#Điểm A(a,b)\n",
    "if ((a-o1)**2+(b-o2)**2)**0.5 <=r:\n",
    "    print(\"diem A thuoc duong tron\")\n",
    "else:\n",
    "    print(\"A kh thuoc duong tron\")"
   ]
  },
  {
   "cell_type": "code",
   "execution_count": 1,
   "id": "43141310",
   "metadata": {},
   "outputs": [
    {
     "name": "stdout",
     "output_type": "stream",
     "text": [
      "2395911689\n"
     ]
    }
   ],
   "source": [
    "#W11\n",
    "x=int(input())\n",
    "y=int(input())\n",
    "a = x ** y \n",
    "print(str(a)[:10])"
   ]
  }
 ],
 "metadata": {
  "kernelspec": {
   "display_name": "Python 3",
   "language": "python",
   "name": "python3"
  },
  "language_info": {
   "codemirror_mode": {
    "name": "ipython",
    "version": 3
   },
   "file_extension": ".py",
   "mimetype": "text/x-python",
   "name": "python",
   "nbconvert_exporter": "python",
   "pygments_lexer": "ipython3",
   "version": "3.13.7"
  }
 },
 "nbformat": 4,
 "nbformat_minor": 5
}

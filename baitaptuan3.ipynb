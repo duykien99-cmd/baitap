{
 "cells": [
  {
   "cell_type": "code",
   "execution_count": null,
   "id": "33c962fc",
   "metadata": {},
   "outputs": [
    {
     "name": "stdout",
     "output_type": "stream",
     "text": [
      "truoc khi hoan doi thi a= 1 b= 2\n",
      "sau khi hoan doi thi a= 2 b= 1\n"
     ]
    }
   ],
   "source": [
    "#W1\n",
    "a=1\n",
    "b=2\n",
    "print(\"truoc khi hoan doi thi\", \"a=\" ,a , \"b=\" ,b)\n",
    "a=a^b\n",
    "b=a^b\n",
    "a=a^b\n",
    "print(\"sau khi hoan doi thi\", \"a=\" , a ,\"b=\" ,b)\n"
   ]
  },
  {
   "cell_type": "code",
   "execution_count": null,
   "id": "575b75df",
   "metadata": {},
   "outputs": [],
   "source": []
  }
 ],
 "metadata": {
  "kernelspec": {
   "display_name": "Python 3",
   "language": "python",
   "name": "python3"
  },
  "language_info": {
   "codemirror_mode": {
    "name": "ipython",
    "version": 3
   },
   "file_extension": ".py",
   "mimetype": "text/x-python",
   "name": "python",
   "nbconvert_exporter": "python",
   "pygments_lexer": "ipython3",
   "version": "3.13.7"
  }
 },
 "nbformat": 4,
 "nbformat_minor": 5
}

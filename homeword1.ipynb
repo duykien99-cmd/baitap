{
 "cells": [
  {
   "cell_type": "code",
   "execution_count": 2,
   "id": "77ca394e",
   "metadata": {},
   "outputs": [
    {
     "name": "stdout",
     "output_type": "stream",
     "text": [
      "hl\n"
     ]
    }
   ],
   "source": [
    "print(\"hl\")"
   ]
  },
  {
   "cell_type": "code",
   "execution_count": 3,
   "id": "fe31663d",
   "metadata": {},
   "outputs": [
    {
     "name": "stdout",
     "output_type": "stream",
     "text": [
      "ten kien\n"
     ]
    }
   ],
   "source": [
    "name=input()\n",
    "print(\"ten\",name)"
   ]
  }
 ],
 "metadata": {
  "kernelspec": {
   "display_name": "Python 3",
   "language": "python",
   "name": "python3"
  },
  "language_info": {
   "codemirror_mode": {
    "name": "ipython",
    "version": 3
   },
   "file_extension": ".py",
   "mimetype": "text/x-python",
   "name": "python",
   "nbconvert_exporter": "python",
   "pygments_lexer": "ipython3",
   "version": "3.13.7"
  }
 },
 "nbformat": 4,
 "nbformat_minor": 5
}
